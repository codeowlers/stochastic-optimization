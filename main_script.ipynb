{
 "cells": [
  {
   "cell_type": "code",
   "execution_count": null,
   "metadata": {
    "collapsed": false
   },
   "outputs": [],
   "source": [
    "import numpy as np\n",
    "import random\n",
    "import gurobipy as gp\n",
    "import time"
   ]
  },
  {
   "cell_type": "code",
   "execution_count": null,
   "metadata": {
    "collapsed": false
   },
   "outputs": [],
   "source": [
    "def generate_instances(n, p, capacity_mean, capacity_stddev):\n",
    "    # Generate positions for nodes\n",
    "    nodes = np.random.rand(n, 2)\n",
    "\n",
    "    # Generate capacities for clusters\n",
    "    capacities = np.random.normal(capacity_mean, capacity_stddev, p)\n",
    "\n",
    "    return nodes, capacities"
   ]
  },
  {
   "cell_type": "code",
   "execution_count": null,
   "metadata": {
    "collapsed": false
   },
   "outputs": [],
   "source": [
    "def generate_weights(n, weight_mean, weight_stddev):\n",
    "    # Generate weights for nodes\n",
    "    weights = np.random.normal(weight_mean, weight_stddev, n)\n",
    "\n",
    "    return weights"
   ]
  },
  {
   "cell_type": "code",
   "execution_count": null,
   "metadata": {},
   "outputs": [],
   "source": [
    "def distance(p, q):\n",
    "    return np.sqrt(np.sum((p-q)**2))\n",
    "\n",
    "def solve_ccp(nodes, capacities, weights, lambda_param):\n",
    "    n = nodes.shape[0]\n",
    "    p = len(capacities)\n",
    "\n",
    "    # Create model\n",
    "    model = gp.Model('ccp')\n",
    "\n",
    "    # Create decision variables\n",
    "    x = {}\n",
    "    y = {}\n",
    "    for i in range(n):\n",
    "        for j in range(p):\n",
    "            x[i, j] = model.addVar(vtype=gp.GRB.BINARY, name=f'x[{i},{j}]')\n",
    "        y[i] = model.addVar(vtype=gp.GRB.BINARY, name=f'y[{i}]')\n",
    "\n",
    "    # Set objective function\n",
    "    obj = gp.quicksum(distance(nodes[i], nodes[j]) * x[i,j] for i in range(n) for j in range(p))\n",
    "    obj += lambda_param * gp.quicksum(capacities[j]*y[j] for j in range(p))\n",
    "    obj -= lambda_param * gp.quicksum(weights[i]*x[i,j] for i in range(n) for j in range(p))\n",
    "    model.setObjective(obj, gp.GRB.MINIMIZE)\n",
    "\n",
    "    # Add constraints\n",
    "    for i in range(n):\n",
    "        model.addConstr(gp.quicksum(x[i,j] for j in range(p)) == 1, name=f'assign[{i}]')\n",
    "\n",
    "    model.addConstr(gp.quicksum(y[j] for j in range(p)) <= p, name='num_clusters')\n",
    "\n",
    "    for i in range(n):\n",
    "        for j in range(p):\n",
    "            model.addConstr(x[i,j] <= y[j], name=f'x_c[{i},{j}]')\n",
    "\n",
    "    # Solve model\n",
    "    model.optimize()\n",
    "    # Extract solution\n",
    "    clusters = []\n",
    "    for j in range(p):\n",
    "        cluster = [i for i in range(n) if x[i,j].X > 0.5]\n",
    "        clusters.append(cluster)\n",
    "\n",
    "    return clusters, model"
   ]
  },
  {
   "cell_type": "code",
   "execution_count": null,
   "metadata": {
    "collapsed": false
   },
   "outputs": [],
   "source": [
    "def solve_with_heuristic(nodes, weights, capacities, p):\n",
    "    n = len(nodes)\n",
    "\n",
    "    # Initialize the clusters and the cluster weights\n",
    "    clusters = [[nodes[i]] for i in range(n)]\n",
    "    cluster_weights = [weights[i] for i in range(n)]\n",
    "\n",
    "    # Sort the nodes by weight in decreasing order\n",
    "    node_indices = np.argsort(weights)[::-1]\n",
    "\n",
    "    # Iterate over the nodes\n",
    "    for i in range(n):\n",
    "        node = node_indices[i]\n",
    "\n",
    "        # Find the cluster with the minimum weight\n",
    "        min_cluster = np.argmin(cluster_weights)\n",
    "\n",
    "        # If the weight of the cluster is less than p, merge the node with the cluster\n",
    "        if cluster_weights[min_cluster] < p:\n",
    "            clusters[min_cluster].append(node)\n",
    "            cluster_weights[min_cluster] += weights[node]\n",
    "\n",
    "    return clusters, cluster_weights"
   ]
  },
  {
   "cell_type": "code",
   "execution_count": null,
   "metadata": {
    "collapsed": false
   },
   "outputs": [],
   "source": [
    "def evaluate_objective_function(model, nodes, clusters, cluster_weights):\n",
    "    obj_value = 0\n",
    "    for i in range(len(clusters)):\n",
    "        cluster = clusters[i]\n",
    "        weight = cluster_weights[i]\n",
    "        for j in range(len(cluster)):\n",
    "            for k in range(j+1, len(cluster)):\n",
    "                node_j = cluster[j]\n",
    "                node_k = cluster[k]\n",
    "                obj_value += model(node_j, node_k, weight)\n",
    "    return obj_value"
   ]
  },
  {
   "cell_type": "code",
   "execution_count": null,
   "metadata": {
    "collapsed": false
   },
   "outputs": [],
   "source": [
    "# Study the stability and variability of the solutions\n",
    "def study_stability(model, n, p, nodes, capacities, weights, num_trials):\n",
    "    stability = []\n",
    "    for _ in range(num_trials):\n",
    "        # Generate random realizations of the weights\n",
    "        random_weights = generate_weights(n, weights[0], weights[1])\n",
    "\n",
    "        # Solve the model using the heuristic algorithm\n",
    "        clusters, cluster_weights = solve_with_heuristic(nodes, random_weights, capacities, p)\n",
    "\n",
    "        # Evaluate the performance of the solution using the objective function\n",
    "        obj_value = evaluate_objective_function(model, nodes, clusters, cluster_weights)\n",
    "\n",
    "        # Append the results to the stability list\n",
    "        stability.append(obj_value)\n",
    "\n",
    "    # Calculate the mean and standard deviation of the stability list\n",
    "    mean = np.mean(stability)\n",
    "    stddev = np.std(stability)\n",
    "\n",
    "    return mean, stddev"
   ]
  },
  {
   "cell_type": "code",
   "execution_count": null,
   "metadata": {
    "collapsed": false
   },
   "outputs": [],
   "source": [
    "def kmeans(data, k, max_iterations=100):\n",
    "    # Initialize cluster centers\n",
    "    cluster_centers = data[np.random.choice(data.shape[0], k, replace=False)]\n",
    "\n",
    "    for iteration in range(max_iterations):\n",
    "        # Calculate distances from each data point to cluster centers\n",
    "        distances = np.array([np.linalg.norm(data - center, axis=1) for center in cluster_centers])\n",
    "\n",
    "        # Assign each data point to the closest cluster center\n",
    "        cluster_assignments = np.argmin(distances, axis=0)\n",
    "\n",
    "        # Calculate new cluster centers\n",
    "        new_cluster_centers = np.array([np.mean(data[cluster_assignments == i], axis=0) for i in range(k)])\n",
    "\n",
    "        # Check for convergence\n",
    "        if np.allclose(cluster_centers, new_cluster_centers):\n",
    "            break\n",
    "\n",
    "        cluster_centers = new_cluster_centers\n",
    "\n",
    "    return cluster_assignments, cluster_centers"
   ]
  },
  {
   "cell_type": "code",
   "execution_count": null,
   "metadata": {
    "collapsed": false
   },
   "outputs": [],
   "source": [
    "# Example usage\n",
    "np.random.seed(42)\n",
    "\n",
    "n = 200\n",
    "p = 2\n",
    "capacity_mean = 10\n",
    "capacity_stddev = 2\n",
    "weight_mean = 1\n",
    "weight_stddev = 0.1\n",
    "lambda_param = 0.5\n",
    "\n",
    "nodes, capacities = generate_instances(n, p, capacity_mean, capacity_stddev)\n",
    "weights = generate_weights(n, weight_mean, weight_stddev)\n",
    "\n",
    "clusters, model = solve_ccp(nodes, capacities, weights, lambda_param)\n",
    "print(clusters)"
   ]
  },
  {
   "cell_type": "code",
   "execution_count": null,
   "metadata": {},
   "outputs": [],
   "source": [
    "num_trials = 50 # Number of trials for stability study\n",
    "mean, stddev = study_stability(model, n, p, nodes, capacities, (weight_mean, weight_stddev), num_trials)\n",
    "\n",
    "print(\"Mean of the stability: \", mean)\n",
    "print(\"Standard deviation of the stability: \", stddev)"
   ]
  }
 ],
 "metadata": {
  "kernelspec": {
   "display_name": ".venv",
   "language": "python",
   "name": "python3"
  },
  "language_info": {
   "codemirror_mode": {
    "name": "ipython",
    "version": 3
   },
   "file_extension": ".py",
   "mimetype": "text/x-python",
   "name": "python",
   "nbconvert_exporter": "python",
   "pygments_lexer": "ipython3",
   "version": "3.10.2"
  },
  "vscode": {
   "interpreter": {
    "hash": "35f5253ae318fcd12f4d0d917d7d23cb64d01e924a6e8f0f585e0ccb777f4db3"
   }
  }
 },
 "nbformat": 4,
 "nbformat_minor": 0
}
