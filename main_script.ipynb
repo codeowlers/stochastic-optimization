{
 "cells": [
  {
   "cell_type": "code",
   "execution_count": 90,
   "metadata": {
    "collapsed": false
   },
   "outputs": [],
   "source": [
    "import numpy as np\n",
    "import random\n",
    "import gurobipy as gp\n",
    "import time"
   ]
  },
  {
   "cell_type": "code",
   "execution_count": 91,
   "metadata": {
    "collapsed": false
   },
   "outputs": [],
   "source": [
    "def generate_instances(n, p, capacity_mean, capacity_stddev):\n",
    "    # Generate positions for nodes\n",
    "    nodes = np.random.rand(n, 2)\n",
    "\n",
    "    # Generate capacities for clusters\n",
    "    capacities = np.random.normal(capacity_mean, capacity_stddev, p)\n",
    "\n",
    "    return nodes, capacities"
   ]
  },
  {
   "cell_type": "code",
   "execution_count": 92,
   "metadata": {
    "collapsed": false
   },
   "outputs": [],
   "source": [
    "def generate_weights(n, weight_mean, weight_stddev):\n",
    "    # Generate weights for nodes\n",
    "    weights = np.random.normal(weight_mean, weight_stddev, n)\n",
    "\n",
    "    return weights"
   ]
  },
  {
   "cell_type": "code",
   "execution_count": 93,
   "metadata": {},
   "outputs": [],
   "source": [
    "def distance(p, q):\n",
    "    return np.sqrt(np.sum((p-q)**2))\n",
    "\n",
    "def solve_ccp(nodes, capacities, weights, lambda_param):\n",
    "    n = nodes.shape[0]\n",
    "    p = len(capacities)\n",
    "\n",
    "    # Create model\n",
    "    model = gp.Model('ccp')\n",
    "\n",
    "    # Create decision variables\n",
    "    x = {}\n",
    "    y = {}\n",
    "    for i in range(n):\n",
    "        for j in range(p):\n",
    "            x[i, j] = model.addVar(vtype=gp.GRB.BINARY, name=f'x[{i},{j}]')\n",
    "        y[i] = model.addVar(vtype=gp.GRB.BINARY, name=f'y[{i}]')\n",
    "\n",
    "    # Set objective function\n",
    "    obj = gp.quicksum(distance(nodes[i], nodes[j]) * x[i,j] for i in range(n) for j in range(p))\n",
    "    obj += lambda_param * gp.quicksum(capacities[j]*y[j] for j in range(p))\n",
    "    obj -= lambda_param * gp.quicksum(weights[i]*x[i,j] for i in range(n) for j in range(p))\n",
    "    model.setObjective(obj, gp.GRB.MINIMIZE)\n",
    "\n",
    "    # Add constraints\n",
    "    for i in range(n):\n",
    "        model.addConstr(gp.quicksum(x[i,j] for j in range(p)) == 1, name=f'assign[{i}]')\n",
    "\n",
    "    model.addConstr(gp.quicksum(y[j] for j in range(p)) <= p, name='num_clusters')\n",
    "\n",
    "    for i in range(n):\n",
    "        for j in range(p):\n",
    "            model.addConstr(x[i,j] <= y[j], name=f'x_c[{i},{j}]')\n",
    "\n",
    "    # Solve model\n",
    "    model.optimize()\n",
    "    # Extract solution\n",
    "    clusters = []\n",
    "    for j in range(p):\n",
    "        cluster = [i for i in range(n) if x[i,j].X > 0.5]\n",
    "        clusters.append(cluster)\n",
    "\n",
    "    return clusters, model"
   ]
  },
  {
   "cell_type": "code",
   "execution_count": 94,
   "metadata": {
    "collapsed": false
   },
   "outputs": [],
   "source": [
    "def solve_with_heuristic(nodes, weights, capacities, p):\n",
    "    n = len(nodes)\n",
    "\n",
    "    # Initialize the clusters and the cluster weights\n",
    "    clusters = [[nodes[i]] for i in range(n)]\n",
    "    cluster_weights = [weights[i] for i in range(n)]\n",
    "\n",
    "    # Sort the nodes by weight in decreasing order\n",
    "    node_indices = np.argsort(weights)[::-1]\n",
    "\n",
    "    # Iterate over the nodes\n",
    "    for i in range(n):\n",
    "        node = node_indices[i]\n",
    "\n",
    "        # Find the cluster with the minimum weight\n",
    "        min_cluster = np.argmin(cluster_weights)\n",
    "\n",
    "        # If the weight of the cluster is less than p, merge the node with the cluster\n",
    "        if cluster_weights[min_cluster] < p:\n",
    "            clusters[min_cluster].append(node)\n",
    "            cluster_weights[min_cluster] += weights[node]\n",
    "\n",
    "    return clusters, cluster_weights"
   ]
  },
  {
   "cell_type": "code",
   "execution_count": 95,
   "metadata": {
    "collapsed": false
   },
   "outputs": [],
   "source": [
    "def evaluate_objective_function(model, nodes, clusters, cluster_weights):\n",
    "    obj_value = 0\n",
    "    for i in range(len(clusters)):\n",
    "        cluster = clusters[i]\n",
    "        weight = cluster_weights[i]\n",
    "        for j in range(len(cluster)):\n",
    "            for k in range(j+1, len(cluster)):\n",
    "                node_j = cluster[j]\n",
    "                node_k = cluster[k]\n",
    "                obj_value += model(node_j, node_k, weight)\n",
    "    return obj_value"
   ]
  },
  {
   "cell_type": "code",
   "execution_count": 96,
   "metadata": {
    "collapsed": false
   },
   "outputs": [],
   "source": [
    "# Study the stability and variability of the solutions\n",
    "def study_stability(model, n, p, nodes, capacities, weights, num_trials):\n",
    "    stability = []\n",
    "    for _ in range(num_trials):\n",
    "        # Generate random realizations of the weights\n",
    "        random_weights = generate_weights(n, weights[0], weights[1])\n",
    "\n",
    "        # Solve the model using the heuristic algorithm\n",
    "        clusters, cluster_weights = solve_with_heuristic(nodes, random_weights, capacities, p)\n",
    "\n",
    "        # Evaluate the performance of the solution using the objective function\n",
    "        obj_value = evaluate_objective_function(model, nodes, clusters, cluster_weights)\n",
    "\n",
    "        # Append the results to the stability list\n",
    "        stability.append(obj_value)\n",
    "\n",
    "    # Calculate the mean and standard deviation of the stability list\n",
    "    mean = np.mean(stability)\n",
    "    stddev = np.std(stability)\n",
    "\n",
    "    return mean, stddev"
   ]
  },
  {
   "cell_type": "code",
   "execution_count": 97,
   "metadata": {
    "collapsed": false
   },
   "outputs": [],
   "source": [
    "def kmeans(data, k, max_iterations=100):\n",
    "    # Initialize cluster centers\n",
    "    cluster_centers = data[np.random.choice(data.shape[0], k, replace=False)]\n",
    "\n",
    "    for iteration in range(max_iterations):\n",
    "        # Calculate distances from each data point to cluster centers\n",
    "        distances = np.array([np.linalg.norm(data - center, axis=1) for center in cluster_centers])\n",
    "\n",
    "        # Assign each data point to the closest cluster center\n",
    "        cluster_assignments = np.argmin(distances, axis=0)\n",
    "\n",
    "        # Calculate new cluster centers\n",
    "        new_cluster_centers = np.array([np.mean(data[cluster_assignments == i], axis=0) for i in range(k)])\n",
    "\n",
    "        # Check for convergence\n",
    "        if np.allclose(cluster_centers, new_cluster_centers):\n",
    "            break\n",
    "\n",
    "        cluster_centers = new_cluster_centers\n",
    "\n",
    "    return cluster_assignments, cluster_centers"
   ]
  },
  {
   "cell_type": "code",
   "execution_count": 98,
   "metadata": {
    "collapsed": false
   },
   "outputs": [
    {
     "name": "stdout",
     "output_type": "stream",
     "text": [
      "Gurobi Optimizer version 10.0.1 build v10.0.1rc0 (mac64[arm])\n",
      "\n",
      "CPU model: Apple M1\n",
      "Thread count: 8 physical cores, 8 logical processors, using up to 8 threads\n",
      "\n",
      "Optimize a model with 601 rows, 600 columns and 1202 nonzeros\n",
      "Model fingerprint: 0xe878e5bd\n",
      "Variable types: 0 continuous, 600 integer (600 binary)\n",
      "Coefficient statistics:\n",
      "  Matrix range     [1e+00, 1e+00]\n",
      "  Objective range  [6e-04, 6e+00]\n",
      "  Bounds range     [1e+00, 1e+00]\n",
      "  RHS range        [1e+00, 2e+00]\n",
      "Found heuristic solution: objective 15.1698562\n",
      "Presolve removed 601 rows and 600 columns\n",
      "Presolve time: 0.00s\n",
      "Presolve: All rows and columns removed\n",
      "\n",
      "Explored 0 nodes (0 simplex iterations) in 0.01 seconds (0.00 work units)\n",
      "Thread count was 1 (of 8 available processors)\n",
      "\n",
      "Solution count 2: -12.3219 15.1699 \n",
      "No other solutions better than -12.3219\n",
      "\n",
      "Optimal solution found (tolerance 1.00e-04)\n",
      "Best objective -1.232188968768e+01, best bound -1.232188968768e+01, gap 0.0000%\n",
      "<gurobi.Model MIP instance ccp: 601 constrs, 600 vars, No parameter changes>\n"
     ]
    }
   ],
   "source": [
    "# Example usage\n",
    "np.random.seed(42)\n",
    "\n",
    "n = 200\n",
    "p = 2\n",
    "capacity_mean = 10\n",
    "capacity_stddev = 2\n",
    "weight_mean = 1\n",
    "weight_stddev = 0.1\n",
    "lambda_param = 0.5\n",
    "\n",
    "nodes, capacities = generate_instances(n, p, capacity_mean, capacity_stddev)\n",
    "weights = generate_weights(n, weight_mean, weight_stddev)\n",
    "\n",
    "clusters, model = solve_ccp(nodes, capacities, weights, lambda_param)\n",
    "print(model)"
   ]
  },
  {
   "cell_type": "code",
   "execution_count": 99,
   "outputs": [
    {
     "ename": "TypeError",
     "evalue": "'Model' object is not callable",
     "output_type": "error",
     "traceback": [
      "\u001B[0;31m---------------------------------------------------------------------------\u001B[0m",
      "\u001B[0;31mTypeError\u001B[0m                                 Traceback (most recent call last)",
      "Cell \u001B[0;32mIn[99], line 2\u001B[0m\n\u001B[1;32m      1\u001B[0m num_trials \u001B[38;5;241m=\u001B[39m \u001B[38;5;241m50\u001B[39m \u001B[38;5;66;03m# Number of trials for stability study\u001B[39;00m\n\u001B[0;32m----> 2\u001B[0m mean, stddev \u001B[38;5;241m=\u001B[39m \u001B[43mstudy_stability\u001B[49m\u001B[43m(\u001B[49m\u001B[43mmodel\u001B[49m\u001B[43m,\u001B[49m\u001B[43m \u001B[49m\u001B[43mn\u001B[49m\u001B[43m,\u001B[49m\u001B[43m \u001B[49m\u001B[43mp\u001B[49m\u001B[43m,\u001B[49m\u001B[43m \u001B[49m\u001B[43mnodes\u001B[49m\u001B[43m,\u001B[49m\u001B[43m \u001B[49m\u001B[43mcapacities\u001B[49m\u001B[43m,\u001B[49m\u001B[43m \u001B[49m\u001B[43m(\u001B[49m\u001B[43mweight_mean\u001B[49m\u001B[43m,\u001B[49m\u001B[43m \u001B[49m\u001B[43mweight_stddev\u001B[49m\u001B[43m)\u001B[49m\u001B[43m,\u001B[49m\u001B[43m \u001B[49m\u001B[43mnum_trials\u001B[49m\u001B[43m)\u001B[49m\n\u001B[1;32m      4\u001B[0m \u001B[38;5;28mprint\u001B[39m(\u001B[38;5;124m\"\u001B[39m\u001B[38;5;124mMean of the stability: \u001B[39m\u001B[38;5;124m\"\u001B[39m, mean)\n\u001B[1;32m      5\u001B[0m \u001B[38;5;28mprint\u001B[39m(\u001B[38;5;124m\"\u001B[39m\u001B[38;5;124mStandard deviation of the stability: \u001B[39m\u001B[38;5;124m\"\u001B[39m, stddev)\n",
      "Cell \u001B[0;32mIn[96], line 12\u001B[0m, in \u001B[0;36mstudy_stability\u001B[0;34m(model, n, p, nodes, capacities, weights, num_trials)\u001B[0m\n\u001B[1;32m      9\u001B[0m clusters, cluster_weights \u001B[38;5;241m=\u001B[39m solve_with_heuristic(nodes, random_weights, capacities, p)\n\u001B[1;32m     11\u001B[0m \u001B[38;5;66;03m# Evaluate the performance of the solution using the objective function\u001B[39;00m\n\u001B[0;32m---> 12\u001B[0m obj_value \u001B[38;5;241m=\u001B[39m \u001B[43mevaluate_objective_function\u001B[49m\u001B[43m(\u001B[49m\u001B[43mmodel\u001B[49m\u001B[43m,\u001B[49m\u001B[43m \u001B[49m\u001B[43mnodes\u001B[49m\u001B[43m,\u001B[49m\u001B[43m \u001B[49m\u001B[43mclusters\u001B[49m\u001B[43m,\u001B[49m\u001B[43m \u001B[49m\u001B[43mcluster_weights\u001B[49m\u001B[43m)\u001B[49m\n\u001B[1;32m     14\u001B[0m \u001B[38;5;66;03m# Append the results to the stability list\u001B[39;00m\n\u001B[1;32m     15\u001B[0m stability\u001B[38;5;241m.\u001B[39mappend(obj_value)\n",
      "Cell \u001B[0;32mIn[95], line 10\u001B[0m, in \u001B[0;36mevaluate_objective_function\u001B[0;34m(model, nodes, clusters, cluster_weights)\u001B[0m\n\u001B[1;32m      8\u001B[0m             node_j \u001B[38;5;241m=\u001B[39m cluster[j]\n\u001B[1;32m      9\u001B[0m             node_k \u001B[38;5;241m=\u001B[39m cluster[k]\n\u001B[0;32m---> 10\u001B[0m             obj_value \u001B[38;5;241m+\u001B[39m\u001B[38;5;241m=\u001B[39m \u001B[43mmodel\u001B[49m\u001B[43m(\u001B[49m\u001B[43mnode_j\u001B[49m\u001B[43m,\u001B[49m\u001B[43m \u001B[49m\u001B[43mnode_k\u001B[49m\u001B[43m,\u001B[49m\u001B[43m \u001B[49m\u001B[43mweight\u001B[49m\u001B[43m)\u001B[49m\n\u001B[1;32m     11\u001B[0m \u001B[38;5;28;01mreturn\u001B[39;00m obj_value\n",
      "\u001B[0;31mTypeError\u001B[0m: 'Model' object is not callable"
     ]
    }
   ],
   "source": [
    "num_trials = 50 # Number of trials for stability study\n",
    "mean, stddev = study_stability(model, n, p, nodes, capacities, (weight_mean, weight_stddev), num_trials)\n",
    "\n",
    "print(\"Mean of the stability: \", mean)\n",
    "print(\"Standard deviation of the stability: \", stddev)"
   ],
   "metadata": {}
  }
 ],
 "metadata": {
  "kernelspec": {
   "display_name": ".venv",
   "language": "python",
   "name": "python3"
  },
  "language_info": {
   "codemirror_mode": {
    "name": "ipython",
    "version": 3
   },
   "file_extension": ".py",
   "mimetype": "text/x-python",
   "name": "python",
   "nbconvert_exporter": "python",
   "pygments_lexer": "ipython3",
   "version": "3.10.2"
  },
  "vscode": {
   "interpreter": {
    "hash": "35f5253ae318fcd12f4d0d917d7d23cb64d01e924a6e8f0f585e0ccb777f4db3"
   }
  }
 },
 "nbformat": 4,
 "nbformat_minor": 0
}
