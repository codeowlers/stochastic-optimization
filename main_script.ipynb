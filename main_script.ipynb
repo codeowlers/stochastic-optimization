{
 "cells": [
  {
   "cell_type": "code",
   "execution_count": 28,
   "outputs": [],
   "source": [
    "import numpy as np\n",
    "import random\n",
    "import gurobipy as gp\n",
    "import time"
   ],
   "metadata": {
    "collapsed": false
   }
  },
  {
   "cell_type": "code",
   "execution_count": 29,
   "outputs": [],
   "source": [
    "def generate_instances(n, p, capacity_mean, capacity_stddev):\n",
    "    # Generate positions for nodes\n",
    "    nodes = np.random.rand(n, 2)\n",
    "\n",
    "    # Generate capacities for clusters\n",
    "    capacities = np.random.normal(capacity_mean, capacity_stddev, p)\n",
    "\n",
    "    return nodes, capacities"
   ],
   "metadata": {
    "collapsed": false
   }
  },
  {
   "cell_type": "code",
   "execution_count": 30,
   "outputs": [],
   "source": [
    "def generate_weights(n, weight_mean, weight_stddev):\n",
    "    # Generate weights for nodes\n",
    "    weights = np.random.normal(weight_mean, weight_stddev, n)\n",
    "\n",
    "    return weights"
   ],
   "metadata": {
    "collapsed": false
   }
  },
  {
   "cell_type": "code",
   "execution_count": 31,
   "outputs": [],
   "source": [
    "def solve_ccp(n, p, nodes, capacities, weights):\n",
    "    # Create a Gurobi model\n",
    "    model = gp.Model()\n",
    "\n",
    "    # Add decision variables\n",
    "    x = {}\n",
    "    y = {}\n",
    "    for i in range(n):\n",
    "        for j in range(p):\n",
    "            x[i,j] = model.addVar(vtype=gp.GRB.BINARY, name=\"x_{}_{}\".format(i, j))\n",
    "        y[i] = model.addVar(vtype=gp.GRB.BINARY, name=\"y_{}\".format(i))\n",
    "\n",
    "    # Update the model\n",
    "    model.update()\n",
    "\n",
    "    # Set objective function\n",
    "    obj = gp.quicksum(gp.quicksum(np.sqrt((nodes[i][0]-nodes[j][0])**2 + (nodes[i][1]-nodes[j][1])**2)*x[i,j] for j in range(n)) + weights[i]*(1-gp.quicksum(x[i,j] for j in range(p))) for i in range(n))\n",
    "\n",
    "    model.setObjective(obj, gp.GRB.MINIMIZE)\n",
    "\n",
    "    # Add constraints\n",
    "    for i in range(n):\n",
    "        model.addConstr(gp.quicksum(x[i,j] for j in range(p)) == 1)\n",
    "\n",
    "    for j in range(p):\n",
    "        model.addConstr(gp.quicksum(weights[i]*x[i,j] for i in range(n)) <= capacities[j])\n",
    "\n",
    "    for i in range(n):\n",
    "        for j in range(p):\n",
    "            model.addConstr(x[i,j] <= y[j])\n",
    "\n",
    "    model.addConstr(gp.quicksum(y[j] for j in range(p)) <= p)\n",
    "\n",
    "    # Optimize the model\n",
    "    model.optimize()\n",
    "\n",
    "    return model"
   ],
   "metadata": {
    "collapsed": false
   }
  },
  {
   "cell_type": "code",
   "execution_count": 33,
   "outputs": [],
   "source": [
    "def solve_with_heuristic(nodes, weights, capacities, p):\n",
    "    n = len(nodes)\n",
    "\n",
    "    # Initialize the clusters and the cluster weights\n",
    "    clusters = [[nodes[i]] for i in range(n)]\n",
    "    cluster_weights = [weights[i] for i in range(n)]\n",
    "\n",
    "    # Sort the nodes by weight in decreasing order\n",
    "    node_indices = np.argsort(weights)[::-1]\n",
    "\n",
    "    # Iterate over the nodes\n",
    "    for i in range(n):\n",
    "        node = node_indices[i]\n",
    "\n",
    "        # Find the cluster with the minimum weight\n",
    "        min_cluster = np.argmin(cluster_weights)\n",
    "\n",
    "        # If the weight of the cluster is less than p, merge the node with the cluster\n",
    "        if cluster_weights[min_cluster] < p:\n",
    "            clusters[min_cluster].append(node)\n",
    "            cluster_weights[min_cluster] += weights[node]\n",
    "\n",
    "    return clusters, cluster_weights"
   ],
   "metadata": {
    "collapsed": false
   }
  },
  {
   "cell_type": "code",
   "execution_count": 34,
   "outputs": [],
   "source": [
    "def evaluate_objective_function(model, nodes, clusters, cluster_weights):\n",
    "    obj_value = 0\n",
    "    for i in range(len(clusters)):\n",
    "        cluster = clusters[i]\n",
    "        weight = cluster_weights[i]\n",
    "        for j in range(len(cluster)):\n",
    "            for k in range(j+1, len(cluster)):\n",
    "                node_j = cluster[j]\n",
    "                node_k = cluster[k]\n",
    "                obj_value += model(node_j, node_k, weight)\n",
    "    return obj_value"
   ],
   "metadata": {
    "collapsed": false
   }
  },
  {
   "cell_type": "code",
   "execution_count": 35,
   "outputs": [],
   "source": [
    "# Study the stability and variability of the solutions\n",
    "def study_stability(model, n, p, nodes, capacities, weights, num_trials):\n",
    "    stability = []\n",
    "    for _ in range(num_trials):\n",
    "        # Generate random realizations of the weights\n",
    "        random_weights = generate_weights(n, weights[0], weights[1])\n",
    "\n",
    "        # Solve the model using the heuristic algorithm\n",
    "        clusters, cluster_weights = solve_with_heuristic(nodes, random_weights, capacities, p)\n",
    "\n",
    "        # Evaluate the performance of the solution using the objective function\n",
    "        obj_value = evaluate_objective_function(model, nodes, clusters, cluster_weights)\n",
    "\n",
    "        # Append the results to the stability list\n",
    "        stability.append(obj_value)\n",
    "\n",
    "    # Calculate the mean and standard deviation of the stability list\n",
    "    mean = np.mean(stability)\n",
    "    stddev = np.std(stability)\n",
    "\n",
    "    return mean, stddev"
   ],
   "metadata": {
    "collapsed": false
   }
  },
  {
   "cell_type": "code",
   "execution_count": 36,
   "outputs": [],
   "source": [
    "def kmeans(data, k, max_iterations=100):\n",
    "    # Initialize cluster centers\n",
    "    cluster_centers = data[np.random.choice(data.shape[0], k, replace=False)]\n",
    "\n",
    "    for iteration in range(max_iterations):\n",
    "        # Calculate distances from each data point to cluster centers\n",
    "        distances = np.array([np.linalg.norm(data - center, axis=1) for center in cluster_centers])\n",
    "\n",
    "        # Assign each data point to the closest cluster center\n",
    "        cluster_assignments = np.argmin(distances, axis=0)\n",
    "\n",
    "        # Calculate new cluster centers\n",
    "        new_cluster_centers = np.array([np.mean(data[cluster_assignments == i], axis=0) for i in range(k)])\n",
    "\n",
    "        # Check for convergence\n",
    "        if np.allclose(cluster_centers, new_cluster_centers):\n",
    "            break\n",
    "\n",
    "        cluster_centers = new_cluster_centers\n",
    "\n",
    "    return cluster_assignments, cluster_centers"
   ],
   "metadata": {
    "collapsed": false
   }
  },
  {
   "cell_type": "code",
   "execution_count": 37,
   "outputs": [
    {
     "ename": "KeyError",
     "evalue": "(0, 20)",
     "output_type": "error",
     "traceback": [
      "\u001B[0;31m---------------------------------------------------------------------------\u001B[0m",
      "\u001B[0;31mKeyError\u001B[0m                                  Traceback (most recent call last)",
      "Cell \u001B[0;32mIn[37], line 14\u001B[0m\n\u001B[1;32m     11\u001B[0m weights \u001B[38;5;241m=\u001B[39m generate_weights(n, weight_mean, weight_stddev)\n\u001B[1;32m     13\u001B[0m \u001B[38;5;66;03m# Solve the CCP using Gurobi\u001B[39;00m\n\u001B[0;32m---> 14\u001B[0m model \u001B[38;5;241m=\u001B[39m \u001B[43msolve_ccp\u001B[49m\u001B[43m(\u001B[49m\u001B[43mn\u001B[49m\u001B[43m,\u001B[49m\u001B[43m \u001B[49m\u001B[43mp\u001B[49m\u001B[43m,\u001B[49m\u001B[43m \u001B[49m\u001B[43mnodes\u001B[49m\u001B[43m,\u001B[49m\u001B[43m \u001B[49m\u001B[43mcapacities\u001B[49m\u001B[43m,\u001B[49m\u001B[43m \u001B[49m\u001B[43mweights\u001B[49m\u001B[43m)\u001B[49m\n\u001B[1;32m     16\u001B[0m \u001B[38;5;66;03m# Study the stability of the solution\u001B[39;00m\n\u001B[1;32m     17\u001B[0m num_trials \u001B[38;5;241m=\u001B[39m \u001B[38;5;241m50\u001B[39m \u001B[38;5;66;03m# Number of trials for stability study\u001B[39;00m\n",
      "Cell \u001B[0;32mIn[31], line 17\u001B[0m, in \u001B[0;36msolve_ccp\u001B[0;34m(n, p, nodes, capacities, weights)\u001B[0m\n\u001B[1;32m     14\u001B[0m model\u001B[38;5;241m.\u001B[39mupdate()\n\u001B[1;32m     16\u001B[0m \u001B[38;5;66;03m# Set objective function\u001B[39;00m\n\u001B[0;32m---> 17\u001B[0m obj \u001B[38;5;241m=\u001B[39m \u001B[43mgp\u001B[49m\u001B[38;5;241;43m.\u001B[39;49m\u001B[43mquicksum\u001B[49m\u001B[43m(\u001B[49m\u001B[43mgp\u001B[49m\u001B[38;5;241;43m.\u001B[39;49m\u001B[43mquicksum\u001B[49m\u001B[43m(\u001B[49m\u001B[43mnp\u001B[49m\u001B[38;5;241;43m.\u001B[39;49m\u001B[43msqrt\u001B[49m\u001B[43m(\u001B[49m\u001B[43m(\u001B[49m\u001B[43mnodes\u001B[49m\u001B[43m[\u001B[49m\u001B[43mi\u001B[49m\u001B[43m]\u001B[49m\u001B[43m[\u001B[49m\u001B[38;5;241;43m0\u001B[39;49m\u001B[43m]\u001B[49m\u001B[38;5;241;43m-\u001B[39;49m\u001B[43mnodes\u001B[49m\u001B[43m[\u001B[49m\u001B[43mj\u001B[49m\u001B[43m]\u001B[49m\u001B[43m[\u001B[49m\u001B[38;5;241;43m0\u001B[39;49m\u001B[43m]\u001B[49m\u001B[43m)\u001B[49m\u001B[38;5;241;43m*\u001B[39;49m\u001B[38;5;241;43m*\u001B[39;49m\u001B[38;5;241;43m2\u001B[39;49m\u001B[43m \u001B[49m\u001B[38;5;241;43m+\u001B[39;49m\u001B[43m \u001B[49m\u001B[43m(\u001B[49m\u001B[43mnodes\u001B[49m\u001B[43m[\u001B[49m\u001B[43mi\u001B[49m\u001B[43m]\u001B[49m\u001B[43m[\u001B[49m\u001B[38;5;241;43m1\u001B[39;49m\u001B[43m]\u001B[49m\u001B[38;5;241;43m-\u001B[39;49m\u001B[43mnodes\u001B[49m\u001B[43m[\u001B[49m\u001B[43mj\u001B[49m\u001B[43m]\u001B[49m\u001B[43m[\u001B[49m\u001B[38;5;241;43m1\u001B[39;49m\u001B[43m]\u001B[49m\u001B[43m)\u001B[49m\u001B[38;5;241;43m*\u001B[39;49m\u001B[38;5;241;43m*\u001B[39;49m\u001B[38;5;241;43m2\u001B[39;49m\u001B[43m)\u001B[49m\u001B[38;5;241;43m*\u001B[39;49m\u001B[43mx\u001B[49m\u001B[43m[\u001B[49m\u001B[43mi\u001B[49m\u001B[43m,\u001B[49m\u001B[43mj\u001B[49m\u001B[43m]\u001B[49m\u001B[43m \u001B[49m\u001B[38;5;28;43;01mfor\u001B[39;49;00m\u001B[43m \u001B[49m\u001B[43mj\u001B[49m\u001B[43m \u001B[49m\u001B[38;5;129;43;01min\u001B[39;49;00m\u001B[43m \u001B[49m\u001B[38;5;28;43mrange\u001B[39;49m\u001B[43m(\u001B[49m\u001B[43mn\u001B[49m\u001B[43m)\u001B[49m\u001B[43m)\u001B[49m\u001B[43m \u001B[49m\u001B[38;5;241;43m+\u001B[39;49m\u001B[43m \u001B[49m\u001B[43mweights\u001B[49m\u001B[43m[\u001B[49m\u001B[43mi\u001B[49m\u001B[43m]\u001B[49m\u001B[38;5;241;43m*\u001B[39;49m\u001B[43m(\u001B[49m\u001B[38;5;241;43m1\u001B[39;49m\u001B[38;5;241;43m-\u001B[39;49m\u001B[43mgp\u001B[49m\u001B[38;5;241;43m.\u001B[39;49m\u001B[43mquicksum\u001B[49m\u001B[43m(\u001B[49m\u001B[43mx\u001B[49m\u001B[43m[\u001B[49m\u001B[43mi\u001B[49m\u001B[43m,\u001B[49m\u001B[43mj\u001B[49m\u001B[43m]\u001B[49m\u001B[43m \u001B[49m\u001B[38;5;28;43;01mfor\u001B[39;49;00m\u001B[43m \u001B[49m\u001B[43mj\u001B[49m\u001B[43m \u001B[49m\u001B[38;5;129;43;01min\u001B[39;49;00m\u001B[43m \u001B[49m\u001B[38;5;28;43mrange\u001B[39;49m\u001B[43m(\u001B[49m\u001B[43mp\u001B[49m\u001B[43m)\u001B[49m\u001B[43m)\u001B[49m\u001B[43m)\u001B[49m\u001B[43m \u001B[49m\u001B[38;5;28;43;01mfor\u001B[39;49;00m\u001B[43m \u001B[49m\u001B[43mi\u001B[49m\u001B[43m \u001B[49m\u001B[38;5;129;43;01min\u001B[39;49;00m\u001B[43m \u001B[49m\u001B[38;5;28;43mrange\u001B[39;49m\u001B[43m(\u001B[49m\u001B[43mn\u001B[49m\u001B[43m)\u001B[49m\u001B[43m)\u001B[49m\n\u001B[1;32m     19\u001B[0m model\u001B[38;5;241m.\u001B[39msetObjective(obj, gp\u001B[38;5;241m.\u001B[39mGRB\u001B[38;5;241m.\u001B[39mMINIMIZE)\n\u001B[1;32m     21\u001B[0m \u001B[38;5;66;03m# Add constraints\u001B[39;00m\n",
      "File \u001B[0;32msrc/gurobipy/gurobi.pxi:3706\u001B[0m, in \u001B[0;36mgurobipy.quicksum\u001B[0;34m()\u001B[0m\n",
      "Cell \u001B[0;32mIn[31], line 17\u001B[0m, in \u001B[0;36m<genexpr>\u001B[0;34m(.0)\u001B[0m\n\u001B[1;32m     14\u001B[0m model\u001B[38;5;241m.\u001B[39mupdate()\n\u001B[1;32m     16\u001B[0m \u001B[38;5;66;03m# Set objective function\u001B[39;00m\n\u001B[0;32m---> 17\u001B[0m obj \u001B[38;5;241m=\u001B[39m gp\u001B[38;5;241m.\u001B[39mquicksum(\u001B[43mgp\u001B[49m\u001B[38;5;241;43m.\u001B[39;49m\u001B[43mquicksum\u001B[49m\u001B[43m(\u001B[49m\u001B[43mnp\u001B[49m\u001B[38;5;241;43m.\u001B[39;49m\u001B[43msqrt\u001B[49m\u001B[43m(\u001B[49m\u001B[43m(\u001B[49m\u001B[43mnodes\u001B[49m\u001B[43m[\u001B[49m\u001B[43mi\u001B[49m\u001B[43m]\u001B[49m\u001B[43m[\u001B[49m\u001B[38;5;241;43m0\u001B[39;49m\u001B[43m]\u001B[49m\u001B[38;5;241;43m-\u001B[39;49m\u001B[43mnodes\u001B[49m\u001B[43m[\u001B[49m\u001B[43mj\u001B[49m\u001B[43m]\u001B[49m\u001B[43m[\u001B[49m\u001B[38;5;241;43m0\u001B[39;49m\u001B[43m]\u001B[49m\u001B[43m)\u001B[49m\u001B[38;5;241;43m*\u001B[39;49m\u001B[38;5;241;43m*\u001B[39;49m\u001B[38;5;241;43m2\u001B[39;49m\u001B[43m \u001B[49m\u001B[38;5;241;43m+\u001B[39;49m\u001B[43m \u001B[49m\u001B[43m(\u001B[49m\u001B[43mnodes\u001B[49m\u001B[43m[\u001B[49m\u001B[43mi\u001B[49m\u001B[43m]\u001B[49m\u001B[43m[\u001B[49m\u001B[38;5;241;43m1\u001B[39;49m\u001B[43m]\u001B[49m\u001B[38;5;241;43m-\u001B[39;49m\u001B[43mnodes\u001B[49m\u001B[43m[\u001B[49m\u001B[43mj\u001B[49m\u001B[43m]\u001B[49m\u001B[43m[\u001B[49m\u001B[38;5;241;43m1\u001B[39;49m\u001B[43m]\u001B[49m\u001B[43m)\u001B[49m\u001B[38;5;241;43m*\u001B[39;49m\u001B[38;5;241;43m*\u001B[39;49m\u001B[38;5;241;43m2\u001B[39;49m\u001B[43m)\u001B[49m\u001B[38;5;241;43m*\u001B[39;49m\u001B[43mx\u001B[49m\u001B[43m[\u001B[49m\u001B[43mi\u001B[49m\u001B[43m,\u001B[49m\u001B[43mj\u001B[49m\u001B[43m]\u001B[49m\u001B[43m \u001B[49m\u001B[38;5;28;43;01mfor\u001B[39;49;00m\u001B[43m \u001B[49m\u001B[43mj\u001B[49m\u001B[43m \u001B[49m\u001B[38;5;129;43;01min\u001B[39;49;00m\u001B[43m \u001B[49m\u001B[38;5;28;43mrange\u001B[39;49m\u001B[43m(\u001B[49m\u001B[43mn\u001B[49m\u001B[43m)\u001B[49m\u001B[43m)\u001B[49m \u001B[38;5;241m+\u001B[39m weights[i]\u001B[38;5;241m*\u001B[39m(\u001B[38;5;241m1\u001B[39m\u001B[38;5;241m-\u001B[39mgp\u001B[38;5;241m.\u001B[39mquicksum(x[i,j] \u001B[38;5;28;01mfor\u001B[39;00m j \u001B[38;5;129;01min\u001B[39;00m \u001B[38;5;28mrange\u001B[39m(p))) \u001B[38;5;28;01mfor\u001B[39;00m i \u001B[38;5;129;01min\u001B[39;00m \u001B[38;5;28mrange\u001B[39m(n))\n\u001B[1;32m     19\u001B[0m model\u001B[38;5;241m.\u001B[39msetObjective(obj, gp\u001B[38;5;241m.\u001B[39mGRB\u001B[38;5;241m.\u001B[39mMINIMIZE)\n\u001B[1;32m     21\u001B[0m \u001B[38;5;66;03m# Add constraints\u001B[39;00m\n",
      "File \u001B[0;32msrc/gurobipy/gurobi.pxi:3706\u001B[0m, in \u001B[0;36mgurobipy.quicksum\u001B[0;34m()\u001B[0m\n",
      "Cell \u001B[0;32mIn[31], line 17\u001B[0m, in \u001B[0;36m<genexpr>\u001B[0;34m(.0)\u001B[0m\n\u001B[1;32m     14\u001B[0m model\u001B[38;5;241m.\u001B[39mupdate()\n\u001B[1;32m     16\u001B[0m \u001B[38;5;66;03m# Set objective function\u001B[39;00m\n\u001B[0;32m---> 17\u001B[0m obj \u001B[38;5;241m=\u001B[39m gp\u001B[38;5;241m.\u001B[39mquicksum(gp\u001B[38;5;241m.\u001B[39mquicksum(np\u001B[38;5;241m.\u001B[39msqrt((nodes[i][\u001B[38;5;241m0\u001B[39m]\u001B[38;5;241m-\u001B[39mnodes[j][\u001B[38;5;241m0\u001B[39m])\u001B[38;5;241m*\u001B[39m\u001B[38;5;241m*\u001B[39m\u001B[38;5;241m2\u001B[39m \u001B[38;5;241m+\u001B[39m (nodes[i][\u001B[38;5;241m1\u001B[39m]\u001B[38;5;241m-\u001B[39mnodes[j][\u001B[38;5;241m1\u001B[39m])\u001B[38;5;241m*\u001B[39m\u001B[38;5;241m*\u001B[39m\u001B[38;5;241m2\u001B[39m)\u001B[38;5;241m*\u001B[39m\u001B[43mx\u001B[49m\u001B[43m[\u001B[49m\u001B[43mi\u001B[49m\u001B[43m,\u001B[49m\u001B[43mj\u001B[49m\u001B[43m]\u001B[49m \u001B[38;5;28;01mfor\u001B[39;00m j \u001B[38;5;129;01min\u001B[39;00m \u001B[38;5;28mrange\u001B[39m(n)) \u001B[38;5;241m+\u001B[39m weights[i]\u001B[38;5;241m*\u001B[39m(\u001B[38;5;241m1\u001B[39m\u001B[38;5;241m-\u001B[39mgp\u001B[38;5;241m.\u001B[39mquicksum(x[i,j] \u001B[38;5;28;01mfor\u001B[39;00m j \u001B[38;5;129;01min\u001B[39;00m \u001B[38;5;28mrange\u001B[39m(p))) \u001B[38;5;28;01mfor\u001B[39;00m i \u001B[38;5;129;01min\u001B[39;00m \u001B[38;5;28mrange\u001B[39m(n))\n\u001B[1;32m     19\u001B[0m model\u001B[38;5;241m.\u001B[39msetObjective(obj, gp\u001B[38;5;241m.\u001B[39mGRB\u001B[38;5;241m.\u001B[39mMINIMIZE)\n\u001B[1;32m     21\u001B[0m \u001B[38;5;66;03m# Add constraints\u001B[39;00m\n",
      "\u001B[0;31mKeyError\u001B[0m: (0, 20)"
     ]
    }
   ],
   "source": [
    "# Define the problem parameters\n",
    "n = 100 # Number of nodes\n",
    "p = 20 # Number of clusters\n",
    "capacity_mean = 100 # Mean of capacities of clusters\n",
    "capacity_stddev = 20 # Standard deviation of capacities of clusters\n",
    "weight_mean = 50 # Mean of the weights of nodes\n",
    "weight_stddev = 20 # Standard deviation of the weights of nodes\n",
    "\n",
    "# Generate problem instances\n",
    "nodes, capacities = generate_instances(n, p, capacity_mean, capacity_stddev)\n",
    "weights = generate_weights(n, weight_mean, weight_stddev)"
   ],
   "metadata": {
    "collapsed": false
   }
  },
  {
   "cell_type": "code",
   "execution_count": null,
   "outputs": [],
   "source": [
    "# Solve the CCP using Gurobi\n",
    "model = solve_ccp(n, p, nodes, capacities, weights)\n",
    "\n",
    "# Study the stability of the solution\n",
    "num_trials = 50 # Number of trials for stability study\n",
    "mean, stddev = study_stability(model, n, p, nodes, capacities, (weight_mean, weight_stddev), num_trials)\n",
    "\n",
    "print(\"Mean of the stability: \", mean)\n",
    "print(\"Standard deviation of the stability: \", stddev)"
   ],
   "metadata": {
    "collapsed": false
   }
  }
 ],
 "metadata": {
  "kernelspec": {
   "display_name": "Python 3",
   "language": "python",
   "name": "python3"
  },
  "language_info": {
   "codemirror_mode": {
    "name": "ipython",
    "version": 2
   },
   "file_extension": ".py",
   "mimetype": "text/x-python",
   "name": "python",
   "nbconvert_exporter": "python",
   "pygments_lexer": "ipython2",
   "version": "2.7.6"
  }
 },
 "nbformat": 4,
 "nbformat_minor": 0
}
