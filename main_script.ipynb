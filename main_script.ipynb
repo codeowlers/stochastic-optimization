{
 "cells": [
  {
   "cell_type": "code",
   "execution_count": 58,
   "metadata": {
    "collapsed": false
   },
   "outputs": [],
   "source": [
    "import numpy as np\n",
    "import random\n",
    "import gurobipy as gp\n",
    "import time"
   ]
  },
  {
   "cell_type": "code",
   "execution_count": 59,
   "metadata": {
    "collapsed": false
   },
   "outputs": [],
   "source": [
    "def generate_instances(n, p, capacity_mean, capacity_stddev):\n",
    "    # Generate positions for nodes\n",
    "    nodes = np.random.rand(n, 2)\n",
    "\n",
    "    # Generate capacities for clusters\n",
    "    capacities = np.random.normal(capacity_mean, capacity_stddev, p)\n",
    "\n",
    "    return nodes, capacities"
   ]
  },
  {
   "cell_type": "code",
   "execution_count": 60,
   "metadata": {
    "collapsed": false
   },
   "outputs": [],
   "source": [
    "def generate_weights(n, weight_mean, weight_stddev):\n",
    "    # Generate weights for nodes\n",
    "    weights = np.random.normal(weight_mean, weight_stddev, n)\n",
    "\n",
    "    return weights"
   ]
  },
  {
   "cell_type": "code",
   "execution_count": 61,
   "metadata": {},
   "outputs": [
    {
     "name": "stdout",
     "output_type": "stream",
     "text": [
      "Gurobi Optimizer version 10.0.1 build v10.0.1rc0 (mac64[arm])\n",
      "\n",
      "CPU model: Apple M1\n",
      "Thread count: 8 physical cores, 8 logical processors, using up to 8 threads\n",
      "\n",
      "Optimize a model with 601 rows, 600 columns and 1202 nonzeros\n",
      "Model fingerprint: 0xe878e5bd\n",
      "Variable types: 0 continuous, 600 integer (600 binary)\n",
      "Coefficient statistics:\n",
      "  Matrix range     [1e+00, 1e+00]\n",
      "  Objective range  [6e-04, 6e+00]\n",
      "  Bounds range     [1e+00, 1e+00]\n",
      "  RHS range        [1e+00, 2e+00]\n",
      "Found heuristic solution: objective 15.1698562\n",
      "Presolve removed 601 rows and 600 columns\n",
      "Presolve time: 0.00s\n",
      "Presolve: All rows and columns removed\n",
      "\n",
      "Explored 0 nodes (0 simplex iterations) in 0.01 seconds (0.00 work units)\n",
      "Thread count was 1 (of 8 available processors)\n",
      "\n",
      "Solution count 2: -12.3219 15.1699 \n",
      "No other solutions better than -12.3219\n",
      "\n",
      "Optimal solution found (tolerance 1.00e-04)\n",
      "Best objective -1.232188968768e+01, best bound -1.232188968768e+01, gap 0.0000%\n",
      "[[0, 3, 5, 8, 12, 13, 16, 20, 21, 22, 27, 29, 32, 33, 34, 36, 45, 50, 53, 57, 64, 66, 69, 74, 76, 79, 80, 82, 84, 92, 95, 101, 103, 108, 111, 117, 122, 123, 127, 130, 131, 144, 147, 150, 152, 156, 165, 171, 174, 175, 177, 178, 180, 186, 187, 190, 191, 196, 197], [1, 2, 4, 6, 7, 9, 10, 11, 14, 15, 17, 18, 19, 23, 24, 25, 26, 28, 30, 31, 35, 37, 38, 39, 40, 41, 42, 43, 44, 46, 47, 48, 49, 51, 52, 54, 55, 56, 58, 59, 60, 61, 62, 63, 65, 67, 68, 70, 71, 72, 73, 75, 77, 78, 81, 83, 85, 86, 87, 88, 89, 90, 91, 93, 94, 96, 97, 98, 99, 100, 102, 104, 105, 106, 107, 109, 110, 112, 113, 114, 115, 116, 118, 119, 120, 121, 124, 125, 126, 128, 129, 132, 133, 134, 135, 136, 137, 138, 139, 140, 141, 142, 143, 145, 146, 148, 149, 151, 153, 154, 155, 157, 158, 159, 160, 161, 162, 163, 164, 166, 167, 168, 169, 170, 172, 173, 176, 179, 181, 182, 183, 184, 185, 188, 189, 192, 193, 194, 195, 198, 199]]\n"
     ]
    }
   ],
   "source": [
    "def distance(p, q):\n",
    "    return np.sqrt(np.sum((p-q)**2))\n",
    "\n",
    "def solve_ccp(nodes, capacities, weights, lambda_param):\n",
    "    n = nodes.shape[0]\n",
    "    p = len(capacities)\n",
    "\n",
    "    # Create model\n",
    "    model = gp.Model('ccp')\n",
    "\n",
    "    # Create decision variables\n",
    "    x = {}\n",
    "    y = {}\n",
    "    for i in range(n):\n",
    "        for j in range(p):\n",
    "            x[i, j] = model.addVar(vtype=gp.GRB.BINARY, name=f'x[{i},{j}]')\n",
    "        y[i] = model.addVar(vtype=gp.GRB.BINARY, name=f'y[{i}]')\n",
    "\n",
    "    # Set objective function\n",
    "    obj = gp.quicksum(distance(nodes[i], nodes[j]) * x[i,j] for i in range(n) for j in range(p))\n",
    "    obj += lambda_param * gp.quicksum(capacities[j]*y[j] for j in range(p))\n",
    "    obj -= lambda_param * gp.quicksum(weights[i]*x[i,j] for i in range(n) for j in range(p))\n",
    "    model.setObjective(obj, gp.GRB.MINIMIZE)\n",
    "\n",
    "    # Add constraints\n",
    "    for i in range(n):\n",
    "        model.addConstr(gp.quicksum(x[i,j] for j in range(p)) == 1, name=f'assign[{i}]')\n",
    "\n",
    "    model.addConstr(gp.quicksum(y[j] for j in range(p)) <= p, name='num_clusters')\n",
    "\n",
    "    for i in range(n):\n",
    "        for j in range(p):\n",
    "            model.addConstr(x[i,j] <= y[j], name=f'x_c[{i},{j}]')\n",
    "\n",
    "    # Solve model\n",
    "    model.optimize()\n",
    "    # Extract solution\n",
    "    clusters = []\n",
    "    for j in range(p):\n",
    "        cluster = [i for i in range(n) if x[i,j].X > 0.5]\n",
    "        clusters.append(cluster)\n",
    "\n",
    "    return clusters\n",
    "\n",
    "# Example usage\n",
    "np.random.seed(42)\n",
    "\n",
    "n = 200\n",
    "p = 2\n",
    "capacity_mean = 10\n",
    "capacity_stddev = 2\n",
    "weight_mean = 1\n",
    "weight_stddev = 0.1\n",
    "lambda_param = 0.5\n",
    "\n",
    "nodes, capacities = generate_instances(n, p, capacity_mean, capacity_stddev)\n",
    "weights = generate_weights(n, weight_mean, weight_stddev)\n",
    "\n",
    "clusters = solve_ccp(nodes, capacities, weights, lambda_param)\n",
    "print(clusters)\n"
   ]
  },
  {
   "cell_type": "code",
   "execution_count": 62,
   "metadata": {
    "collapsed": false
   },
   "outputs": [],
   "source": [
    "def generate_weights(n, mu, sigma):\n",
    "    \"\"\"\n",
    "    Generate n random realizations of weights from a normal distribution\n",
    "    with mean mu and standard deviation sigma.\n",
    "\n",
    "    Parameters\n",
    "    ----------\n",
    "    n : int\n",
    "        Number of realizations\n",
    "    mu : float\n",
    "        Mean of the normal distribution\n",
    "    sigma : float\n",
    "        Standard deviation of the normal distribution\n",
    "\n",
    "    Returns\n",
    "    -------\n",
    "    weights : numpy.ndarray\n",
    "        A numpy array of size (n, 1) containing the random realizations of weights.\n",
    "    \"\"\"\n",
    "    weights = np.random.normal(mu, sigma, (n, 1))\n",
    "    return weights"
   ]
  },
  {
   "cell_type": "code",
   "execution_count": 63,
   "metadata": {
    "collapsed": false
   },
   "outputs": [],
   "source": [
    "def solve_with_heuristic(nodes, weights, capacities, p):\n",
    "    n = len(nodes)\n",
    "\n",
    "    # Initialize the clusters and the cluster weights\n",
    "    clusters = [[nodes[i]] for i in range(n)]\n",
    "    cluster_weights = [weights[i] for i in range(n)]\n",
    "\n",
    "    # Sort the nodes by weight in decreasing order\n",
    "    node_indices = np.argsort(weights)[::-1]\n",
    "\n",
    "    # Iterate over the nodes\n",
    "    for i in range(n):\n",
    "        node = node_indices[i]\n",
    "\n",
    "        # Find the cluster with the minimum weight\n",
    "        min_cluster = np.argmin(cluster_weights)\n",
    "\n",
    "        # If the weight of the cluster is less than p, merge the node with the cluster\n",
    "        if cluster_weights[min_cluster] < p:\n",
    "            clusters[min_cluster].append(node)\n",
    "            cluster_weights[min_cluster] += weights[node]\n",
    "\n",
    "    return clusters, cluster_weights"
   ]
  },
  {
   "cell_type": "code",
   "execution_count": 64,
   "metadata": {
    "collapsed": false
   },
   "outputs": [],
   "source": [
    "def evaluate_objective_function(model, nodes, clusters, cluster_weights):\n",
    "    obj_value = 0\n",
    "    for i in range(len(clusters)):\n",
    "        cluster = clusters[i]\n",
    "        weight = cluster_weights[i]\n",
    "        for j in range(len(cluster)):\n",
    "            for k in range(j+1, len(cluster)):\n",
    "                node_j = cluster[j]\n",
    "                node_k = cluster[k]\n",
    "                obj_value += model(node_j, node_k, weight)\n",
    "    return obj_value"
   ]
  },
  {
   "cell_type": "code",
   "execution_count": 65,
   "metadata": {
    "collapsed": false
   },
   "outputs": [],
   "source": [
    "# Study the stability and variability of the solutions\n",
    "def study_stability(model, n, p, nodes, capacities, weights, num_trials):\n",
    "    stability = []\n",
    "    for _ in range(num_trials):\n",
    "        # Generate random realizations of the weights\n",
    "        random_weights = generate_weights(n, weights[0], weights[1])\n",
    "\n",
    "        # Solve the model using the heuristic algorithm\n",
    "        clusters, cluster_weights = solve_with_heuristic(nodes, random_weights, capacities, p)\n",
    "\n",
    "        # Evaluate the performance of the solution using the objective function\n",
    "        obj_value = evaluate_objective_function(model, nodes, clusters, cluster_weights)\n",
    "\n",
    "        # Append the results to the stability list\n",
    "        stability.append(obj_value)\n",
    "\n",
    "    # Calculate the mean and standard deviation of the stability list\n",
    "    mean = np.mean(stability)\n",
    "    stddev = np.std(stability)\n",
    "\n",
    "    return mean, stddev"
   ]
  },
  {
   "cell_type": "code",
   "execution_count": 66,
   "metadata": {
    "collapsed": false
   },
   "outputs": [],
   "source": [
    "def kmeans(data, k, max_iterations=100):\n",
    "    # Initialize cluster centers\n",
    "    cluster_centers = data[np.random.choice(data.shape[0], k, replace=False)]\n",
    "\n",
    "    for iteration in range(max_iterations):\n",
    "        # Calculate distances from each data point to cluster centers\n",
    "        distances = np.array([np.linalg.norm(data - center, axis=1) for center in cluster_centers])\n",
    "\n",
    "        # Assign each data point to the closest cluster center\n",
    "        cluster_assignments = np.argmin(distances, axis=0)\n",
    "\n",
    "        # Calculate new cluster centers\n",
    "        new_cluster_centers = np.array([np.mean(data[cluster_assignments == i], axis=0) for i in range(k)])\n",
    "\n",
    "        # Check for convergence\n",
    "        if np.allclose(cluster_centers, new_cluster_centers):\n",
    "            break\n",
    "\n",
    "        cluster_centers = new_cluster_centers\n",
    "\n",
    "    return cluster_assignments, cluster_centers"
   ]
  },
  {
   "cell_type": "code",
   "execution_count": 67,
   "metadata": {
    "collapsed": false
   },
   "outputs": [],
   "source": [
    "# Define the problem parameters\n",
    "n = 100 # Number of nodes\n",
    "p = 20 # Number of clusters\n",
    "capacity_mean = 100 # Mean of capacities of clusters\n",
    "capacity_stddev = 20 # Standard deviation of capacities of clusters\n",
    "weight_mean = 50 # Mean of the weights of nodes\n",
    "weight_stddev = 20 # Standard deviation of the weights of nodes\n",
    "\n",
    "# Generate problem instances\n",
    "nodes, capacities = generate_instances(n, p, capacity_mean, capacity_stddev)\n",
    "weights = generate_weights(n, weight_mean, weight_stddev)"
   ]
  },
  {
   "cell_type": "code",
   "execution_count": 68,
   "outputs": [
    {
     "ename": "TypeError",
     "evalue": "solve_ccp() takes 4 positional arguments but 5 were given",
     "output_type": "error",
     "traceback": [
      "\u001B[0;31m---------------------------------------------------------------------------\u001B[0m",
      "\u001B[0;31mTypeError\u001B[0m                                 Traceback (most recent call last)",
      "Cell \u001B[0;32mIn[68], line 2\u001B[0m\n\u001B[1;32m      1\u001B[0m \u001B[38;5;66;03m# Solve the CCP using Gurobi\u001B[39;00m\n\u001B[0;32m----> 2\u001B[0m model \u001B[38;5;241m=\u001B[39m \u001B[43msolve_ccp\u001B[49m\u001B[43m(\u001B[49m\u001B[43mn\u001B[49m\u001B[43m,\u001B[49m\u001B[43m \u001B[49m\u001B[43mp\u001B[49m\u001B[43m,\u001B[49m\u001B[43m \u001B[49m\u001B[43mnodes\u001B[49m\u001B[43m,\u001B[49m\u001B[43m \u001B[49m\u001B[43mcapacities\u001B[49m\u001B[43m,\u001B[49m\u001B[43m \u001B[49m\u001B[43mweights\u001B[49m\u001B[43m)\u001B[49m\n\u001B[1;32m      4\u001B[0m \u001B[38;5;66;03m# Study the stability of the solution\u001B[39;00m\n\u001B[1;32m      5\u001B[0m num_trials \u001B[38;5;241m=\u001B[39m \u001B[38;5;241m50\u001B[39m \u001B[38;5;66;03m# Number of trials for stability study\u001B[39;00m\n",
      "\u001B[0;31mTypeError\u001B[0m: solve_ccp() takes 4 positional arguments but 5 were given"
     ]
    }
   ],
   "source": [
    "# Solve the CCP using Gurobi\n",
    "model = solve_ccp(n, nodes, capacities, weights)\n",
    "\n",
    "# Study the stability of the solution\n",
    "num_trials = 50 # Number of trials for stability study\n",
    "mean, stddev = study_stability(model, n, p, nodes, capacities, (weight_mean, weight_stddev), num_trials)\n",
    "\n",
    "print(\"Mean of the stability: \", mean)\n",
    "print(\"Standard deviation of the stability: \", stddev)"
   ],
   "metadata": {}
  }
 ],
 "metadata": {
  "kernelspec": {
   "display_name": ".venv",
   "language": "python",
   "name": "python3"
  },
  "language_info": {
   "codemirror_mode": {
    "name": "ipython",
    "version": 3
   },
   "file_extension": ".py",
   "mimetype": "text/x-python",
   "name": "python",
   "nbconvert_exporter": "python",
   "pygments_lexer": "ipython3",
   "version": "3.10.2"
  },
  "vscode": {
   "interpreter": {
    "hash": "35f5253ae318fcd12f4d0d917d7d23cb64d01e924a6e8f0f585e0ccb777f4db3"
   }
  }
 },
 "nbformat": 4,
 "nbformat_minor": 0
}
