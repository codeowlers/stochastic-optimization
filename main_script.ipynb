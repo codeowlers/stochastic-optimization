{
 "cells": [
  {
   "cell_type": "code",
   "execution_count": null,
   "metadata": {
    "collapsed": false
   },
   "outputs": [],
   "source": [
    "import numpy as np\n",
    "import gurobipy as gp\n",
    "from algorithms import *"
   ]
  },
  {
   "attachments": {},
   "cell_type": "markdown",
   "metadata": {},
   "source": [
    "Variables to be used to generate nodes and cluster"
   ]
  },
  {
   "cell_type": "code",
   "execution_count": null,
   "metadata": {},
   "outputs": [],
   "source": [
    "np.random.seed(42)\n",
    "\n",
    "# Number of nodes\n",
    "n = 200\n",
    "# Number of clusters\n",
    "p = 2\n",
    "\n",
    "capacity_mean = 10\n",
    "capacity_stddev = 2\n",
    "weight_mean = 1\n",
    "weight_stddev = 0.1\n",
    "lambda_param = 0.5"
   ]
  },
  {
   "attachments": {},
   "cell_type": "markdown",
   "metadata": {},
   "source": [
    "Generate random nodes, capacities, and weights"
   ]
  },
  {
   "cell_type": "code",
   "execution_count": null,
   "metadata": {
    "collapsed": false
   },
   "outputs": [],
   "source": [
    "np.random.seed(42)\n",
    "\n",
    "# Generate 2D nodes and random capacities for clusters\n",
    "nodes, capacities = generate_instances(n, p, capacity_mean, capacity_stddev)\n",
    "# Generate random weight for each node\n",
    "weights = generate_weights(n, weight_mean, weight_stddev)"
   ]
  },
  {
   "attachments": {},
   "cell_type": "markdown",
   "metadata": {},
   "source": [
    "Run CCP - Gurobi clustering algorithm"
   ]
  },
  {
   "cell_type": "code",
   "execution_count": null,
   "metadata": {},
   "outputs": [],
   "source": [
    "clusters, time1, obj_val = solve_model(nodes, capacities, weights, lambda_param,'ccp')\n",
    "\n",
    "plot_clusters(clusters,nodes)\n"
   ]
  },
  {
   "attachments": {},
   "cell_type": "markdown",
   "metadata": {},
   "source": [
    "Run Greedy (Heuristic ) clustering algorithm"
   ]
  },
  {
   "cell_type": "code",
   "execution_count": null,
   "metadata": {},
   "outputs": [],
   "source": [
    "greedy_clusters, time2 = greedy_clustering(nodes, capacities, weights)\n",
    "\n",
    "plot_clusters(greedy_clusters,nodes)\n",
    "\n"
   ]
  },
  {
   "attachments": {},
   "cell_type": "markdown",
   "metadata": {},
   "source": [
    "Calculate In Sample Stability"
   ]
  },
  {
   "cell_type": "code",
   "execution_count": null,
   "metadata": {},
   "outputs": [],
   "source": [
    "insample_stability_score = insample_stability(clusters,nodes, capacities, weights, lambda_param, num_runs=100)\n",
    "print(\"Insample Stability:\",insample_stability_score)"
   ]
  },
  {
   "attachments": {},
   "cell_type": "markdown",
   "metadata": {},
   "source": [
    "Calculate Out Sample Stability"
   ]
  },
  {
   "cell_type": "code",
   "execution_count": null,
   "metadata": {},
   "outputs": [],
   "source": [
    "outsample_stability_score = outsample_stability(n, p, weight_mean, weight_stddev, capacity_mean, capacity_stddev, lambda_param, num_runs=10)\n",
    "\n",
    "print(\"Outsample Stability:\",outsample_stability_score)"
   ]
  },
  {
   "attachments": {},
   "cell_type": "markdown",
   "metadata": {},
   "source": [
    "Calculate VSS"
   ]
  },
  {
   "cell_type": "code",
   "execution_count": null,
   "metadata": {},
   "outputs": [],
   "source": [
    "num_simulations = 100\n",
    "np.random.seed(42)\n",
    "VSS = calculate_VSS(n, p, capacity_mean, capacity_stddev, weight_mean, weight_stddev, lambda_param, num_simulations)\n",
    "print(f\"The Value of Stochastic Solution (VSS) is {VSS:.2f}\")"
   ]
  }
 ],
 "metadata": {
  "kernelspec": {
   "display_name": ".venv",
   "language": "python",
   "name": "python3"
  },
  "language_info": {
   "codemirror_mode": {
    "name": "ipython",
    "version": 3
   },
   "file_extension": ".py",
   "mimetype": "text/x-python",
   "name": "python",
   "nbconvert_exporter": "python",
   "pygments_lexer": "ipython3",
   "version": "3.10.2"
  },
  "vscode": {
   "interpreter": {
    "hash": "35f5253ae318fcd12f4d0d917d7d23cb64d01e924a6e8f0f585e0ccb777f4db3"
   }
  }
 },
 "nbformat": 4,
 "nbformat_minor": 0
}
