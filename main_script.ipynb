{
 "cells": [
  {
   "cell_type": "code",
   "execution_count": 146,
   "metadata": {
    "collapsed": false
   },
   "outputs": [],
   "source": [
    "import numpy as np\n",
    "import random\n",
    "import gurobipy as gp\n",
    "import time"
   ]
  },
  {
   "attachments": {},
   "cell_type": "markdown",
   "metadata": {},
   "source": [
    "Variables to be used to generate nodes and cluster"
   ]
  },
  {
   "cell_type": "code",
   "execution_count": 147,
   "metadata": {},
   "outputs": [],
   "source": [
    "np.random.seed(42)\n",
    "\n",
    "# Number of nodes\n",
    "n = 200\n",
    "# Number of clusters\n",
    "p = 2\n",
    "\n",
    "capacity_mean = 10\n",
    "capacity_stddev = 2\n",
    "weight_mean = 1\n",
    "weight_stddev = 0.1\n",
    "lambda_param = 0.5"
   ]
  },
  {
   "attachments": {},
   "cell_type": "markdown",
   "metadata": {},
   "source": [
    "Generate Random Instances using capacity mean and standard deviation"
   ]
  },
  {
   "cell_type": "code",
   "execution_count": 148,
   "metadata": {
    "collapsed": false
   },
   "outputs": [],
   "source": [
    "def generate_instances(n, p, capacity_mean, capacity_stddev):\n",
    "    # Generate 2D positions for n nodes\n",
    "    nodes = np.random.rand(n, 2)\n",
    "\n",
    "    # Generate capacities for clusters\n",
    "    capacities = np.random.normal(capacity_mean, capacity_stddev, p)\n",
    "\n",
    "    return nodes, capacities"
   ]
  },
  {
   "attachments": {},
   "cell_type": "markdown",
   "metadata": {},
   "source": [
    "Generate Random Weights using weight mean and standard deviation"
   ]
  },
  {
   "cell_type": "code",
   "execution_count": 149,
   "metadata": {
    "collapsed": false
   },
   "outputs": [],
   "source": [
    "def generate_weights(n, weight_mean, weight_stddev):\n",
    "    # Generate weights for n nodes\n",
    "    weights = np.random.normal(weight_mean, weight_stddev, n)\n",
    "\n",
    "    return weights"
   ]
  },
  {
   "attachments": {},
   "cell_type": "markdown",
   "metadata": {},
   "source": [
    " Euclidean distance between two points p and q"
   ]
  },
  {
   "cell_type": "code",
   "execution_count": 150,
   "metadata": {},
   "outputs": [],
   "source": [
    "def euclidean_distance(p, q):\n",
    "    return np.sqrt(np.sum((p-q)**2))"
   ]
  },
  {
   "cell_type": "code",
   "execution_count": 151,
   "metadata": {},
   "outputs": [],
   "source": [
    "def solve_ccp(nodes, capacities, weights, lambda_param):\n",
    "    start = time.time()\n",
    "    n = nodes.shape[0]\n",
    "    p = len(capacities)\n",
    "\n",
    "    # Create gurobi model\n",
    "    model = gp.Model('ccp')\n",
    "\n",
    "    # Create decision variables\n",
    "    x = {}\n",
    "    y = {}\n",
    "\n",
    "    # Update decision variables as mentioned in the problem statement\n",
    "    for i in range(n):\n",
    "        for j in range(p):\n",
    "            x[i, j] = model.addVar(vtype=gp.GRB.BINARY, name=f'x[{i},{j}]')\n",
    "        y[i] = model.addVar(vtype=gp.GRB.BINARY, name=f'y[{i}]')\n",
    "\n",
    "    # Set objective function\n",
    "    obj = gp.quicksum(euclidean_distance(nodes[i], nodes[j]) * x[i,j] for i in range(n) for j in range(p))\n",
    "    obj += lambda_param * gp.quicksum(capacities[j]*y[j] for j in range(p))\n",
    "    obj -= lambda_param * gp.quicksum(weights[i]*x[i,j] for i in range(n) for j in range(p))\n",
    "    model.setObjective(obj, gp.GRB.MINIMIZE)\n",
    "\n",
    "    # Add constraints\n",
    "    for i in range(n):\n",
    "        model.addConstr(gp.quicksum(x[i,j] for j in range(p)) == 1, name=f'assign[{i}]')\n",
    "\n",
    "    model.addConstr(gp.quicksum(y[j] for j in range(p)) <= p, name='num_clusters')\n",
    "\n",
    "    for i in range(n):\n",
    "        for j in range(p):\n",
    "            model.addConstr(x[i,j] <= y[j], name=f'x_c[{i},{j}]')\n",
    "\n",
    "    # Solve model\n",
    "    model.optimize()\n",
    "    # Extract solution\n",
    "    clusters = []\n",
    "    for j in range(p):\n",
    "        cluster = [i for i in range(n) if x[i,j].X > 0.5]\n",
    "        clusters.append(cluster)\n",
    "    end = time.time()\n",
    "    return clusters, end-start"
   ]
  },
  {
   "cell_type": "code",
   "execution_count": 152,
   "metadata": {},
   "outputs": [],
   "source": [
    "def jaccard_similarity(clusters_1, clusters_2):\n",
    "    jaccard_scores = []\n",
    "    for cluster_1 in clusters_1:\n",
    "        jaccard_scores_per_cluster = []\n",
    "        for cluster_2 in clusters_2:\n",
    "            union = len(set(cluster_1).union(cluster_2))\n",
    "            intersection = len(set(cluster_1).intersection(cluster_2))\n",
    "            jaccard_index = intersection / union\n",
    "            jaccard_scores_per_cluster.append(jaccard_index)\n",
    "        jaccard_scores.append(max(jaccard_scores_per_cluster))\n",
    "    return np.mean(jaccard_scores)"
   ]
  },
  {
   "cell_type": "code",
   "execution_count": 153,
   "metadata": {},
   "outputs": [],
   "source": [
    "def rand_index(clusters_1, clusters_2):\n",
    "    tp = 0\n",
    "    tn = 0\n",
    "    fp = 0\n",
    "    fn = 0\n",
    "\n",
    "    n = len(clusters_1)\n",
    "    for i in range(n):\n",
    "        for j in range(i+1, n):\n",
    "            if (clusters_1[i] == clusters_1[j] and clusters_2[i] == clusters_2[j]):\n",
    "                tp += 1\n",
    "            elif (clusters_1[i] != clusters_1[j] and clusters_2[i] != clusters_2[j]):\n",
    "                tn += 1\n",
    "            elif (clusters_1[i] == clusters_1[j] and clusters_2[i] != clusters_2[j]):\n",
    "                fp += 1\n",
    "            else:\n",
    "                fn += 1\n",
    "\n",
    "    return (tp + tn) / (tp + tn + fp + fn)\n"
   ]
  },
  {
   "cell_type": "code",
   "execution_count": 154,
   "metadata": {},
   "outputs": [],
   "source": [
    "def insample_stability(clusters_reference,nodes, capacities, weights, lambda_param, num_runs=100):\n",
    "    jaccard_scores = []\n",
    "    for i in range(num_runs):\n",
    "        clusters, _ = solve_ccp(nodes, capacities, weights, lambda_param)\n",
    "        jaccard_scores.append(jaccard_similarity(clusters, clusters_reference))\n",
    "    return np.mean(jaccard_scores)\n"
   ]
  },
  {
   "cell_type": "code",
   "execution_count": 155,
   "metadata": {},
   "outputs": [],
   "source": [
    "def split_data(nodes, weights, train_ratio=0.7):\n",
    "    n = nodes.shape[0]\n",
    "    indices = np.arange(n)\n",
    "    np.random.shuffle(indices)\n",
    "    train_indices = indices[:int(n * train_ratio)]\n",
    "    val_indices = indices[int(n * train_ratio):]\n",
    "    return nodes[train_indices], weights[train_indices], nodes[val_indices], weights[val_indices]\n"
   ]
  },
  {
   "cell_type": "code",
   "execution_count": 156,
   "metadata": {},
   "outputs": [],
   "source": [
    "def out_sample_stability(num_runs=10):\n",
    "    rand_index_scores = []\n",
    "    \n",
    "    for i in range(num_runs):\n",
    "\n",
    "        nodes, capacities = generate_instances(n, p, capacity_mean, capacity_stddev)\n",
    "        weights = generate_weights(n, weight_mean, weight_stddev)\n",
    "        \n",
    "        nodes_train, weights_train, nodes_val, weights_val = split_data(nodes, weights)\n",
    "        \n",
    "        clusters_train,_ = solve_ccp(nodes_train, capacities, weights_train, lambda_param)\n",
    "        clusters_val,_ = solve_ccp(nodes_val, capacities, weights_val, lambda_param)\n",
    "        rand_index_scores.append(rand_index(clusters_train, clusters_val))\n",
    "    return np.mean(rand_index_scores)"
   ]
  },
  {
   "cell_type": "code",
   "execution_count": 157,
   "metadata": {},
   "outputs": [],
   "source": [
    "def greedy_cluster_nodes(nodes, capacities, weights):\n",
    "    start = time.time()\n",
    "    n = nodes.shape[0]\n",
    "    p = len(capacities)\n",
    "\n",
    "    # Create a list to store the clusters\n",
    "    clusters = [[] for _ in range(p)]\n",
    "\n",
    "    # Create a list to store the remaining capacities of each cluster\n",
    "    remaining_capacities = capacities.copy()\n",
    "\n",
    "    # Sort the nodes by their weights in descending order\n",
    "    node_weights = [(node, weight) for node, weight in enumerate(weights)]\n",
    "    node_weights.sort(key=lambda x: x[1], reverse=True)\n",
    "\n",
    "    # Greedily assign each node to a cluster with enough capacity\n",
    "    for node, weight in node_weights:\n",
    "        for j in range(p):\n",
    "            if remaining_capacities[j] >= weight:\n",
    "                clusters[j].append(node)\n",
    "                remaining_capacities[j] -= weight\n",
    "                break\n",
    "    end = time.time()\n",
    "    # Return the list of clusters, each represented by a list of node indices\n",
    "    return clusters, end - start\n"
   ]
  },
  {
   "cell_type": "code",
   "execution_count": 158,
   "metadata": {
    "collapsed": false
   },
   "outputs": [
    {
     "name": "stdout",
     "output_type": "stream",
     "text": [
      "Gurobi Optimizer version 9.5.2 build v9.5.2rc0 (win64)\n",
      "Thread count: 4 physical cores, 8 logical processors, using up to 8 threads\n",
      "Optimize a model with 601 rows, 600 columns and 1202 nonzeros\n",
      "Model fingerprint: 0xe878e5bd\n",
      "Variable types: 0 continuous, 600 integer (600 binary)\n",
      "Coefficient statistics:\n",
      "  Matrix range     [1e+00, 1e+00]\n",
      "  Objective range  [6e-04, 6e+00]\n",
      "  Bounds range     [1e+00, 1e+00]\n",
      "  RHS range        [1e+00, 2e+00]\n",
      "Found heuristic solution: objective 15.1698562\n",
      "Presolve removed 601 rows and 600 columns\n",
      "Presolve time: 0.00s\n",
      "Presolve: All rows and columns removed\n",
      "\n",
      "Explored 0 nodes (0 simplex iterations) in 0.02 seconds (0.00 work units)\n",
      "Thread count was 1 (of 8 available processors)\n",
      "\n",
      "Solution count 2: -12.3219 15.1699 \n",
      "No other solutions better than -12.3219\n",
      "\n",
      "Optimal solution found (tolerance 1.00e-04)\n",
      "Best objective -1.232188968768e+01, best bound -1.232188968768e+01, gap 0.0000%\n"
     ]
    }
   ],
   "source": [
    "# Generate 2D nodes and random capacities for clusters\n",
    "nodes, capacities = generate_instances(n, p, capacity_mean, capacity_stddev)\n",
    "# Generate random weight for each node\n",
    "weights = generate_weights(n, weight_mean, weight_stddev)\n",
    "\n",
    "clusters, time1 = solve_ccp(nodes, capacities, weights, lambda_param)\n",
    "\n",
    "greedy_clusters, time2 = greedy_cluster_nodes(nodes, capacities, weights)\n"
   ]
  },
  {
   "cell_type": "code",
   "execution_count": 159,
   "metadata": {},
   "outputs": [],
   "source": [
    "# in_sample_stability_score = insample_stability(clusters,nodes, capacities, weights, lambda_param, num_runs=100)\n",
    "# print(\"Insample Stability:\",in_sample_stability_score)"
   ]
  },
  {
   "cell_type": "code",
   "execution_count": 160,
   "metadata": {},
   "outputs": [],
   "source": [
    "\n",
    "# out_sample_stability_score = out_sample_stability(num_runs=100)\n",
    "# print(\"Outsample Stability:\",out_sample_stability_score)"
   ]
  },
  {
   "cell_type": "code",
   "execution_count": 161,
   "metadata": {},
   "outputs": [
    {
     "data": {
      "text/plain": [
       "[[162, 62, 58, 7, 104, 144, 185, 71, 77, 105],\n",
       " [172, 158, 120, 100, 45, 178, 118, 175, 155]]"
      ]
     },
     "execution_count": 161,
     "metadata": {},
     "output_type": "execute_result"
    }
   ],
   "source": [
    "greedy_clusters"
   ]
  },
  {
   "cell_type": "code",
   "execution_count": 162,
   "metadata": {},
   "outputs": [
    {
     "data": {
      "text/plain": [
       "[[0,\n",
       "  3,\n",
       "  5,\n",
       "  8,\n",
       "  12,\n",
       "  13,\n",
       "  16,\n",
       "  20,\n",
       "  21,\n",
       "  22,\n",
       "  27,\n",
       "  29,\n",
       "  32,\n",
       "  33,\n",
       "  34,\n",
       "  36,\n",
       "  45,\n",
       "  50,\n",
       "  53,\n",
       "  57,\n",
       "  64,\n",
       "  66,\n",
       "  69,\n",
       "  74,\n",
       "  76,\n",
       "  79,\n",
       "  80,\n",
       "  82,\n",
       "  84,\n",
       "  92,\n",
       "  95,\n",
       "  101,\n",
       "  103,\n",
       "  108,\n",
       "  111,\n",
       "  117,\n",
       "  122,\n",
       "  123,\n",
       "  127,\n",
       "  130,\n",
       "  131,\n",
       "  144,\n",
       "  147,\n",
       "  150,\n",
       "  152,\n",
       "  156,\n",
       "  165,\n",
       "  171,\n",
       "  174,\n",
       "  175,\n",
       "  177,\n",
       "  178,\n",
       "  180,\n",
       "  186,\n",
       "  187,\n",
       "  190,\n",
       "  191,\n",
       "  196,\n",
       "  197],\n",
       " [1,\n",
       "  2,\n",
       "  4,\n",
       "  6,\n",
       "  7,\n",
       "  9,\n",
       "  10,\n",
       "  11,\n",
       "  14,\n",
       "  15,\n",
       "  17,\n",
       "  18,\n",
       "  19,\n",
       "  23,\n",
       "  24,\n",
       "  25,\n",
       "  26,\n",
       "  28,\n",
       "  30,\n",
       "  31,\n",
       "  35,\n",
       "  37,\n",
       "  38,\n",
       "  39,\n",
       "  40,\n",
       "  41,\n",
       "  42,\n",
       "  43,\n",
       "  44,\n",
       "  46,\n",
       "  47,\n",
       "  48,\n",
       "  49,\n",
       "  51,\n",
       "  52,\n",
       "  54,\n",
       "  55,\n",
       "  56,\n",
       "  58,\n",
       "  59,\n",
       "  60,\n",
       "  61,\n",
       "  62,\n",
       "  63,\n",
       "  65,\n",
       "  67,\n",
       "  68,\n",
       "  70,\n",
       "  71,\n",
       "  72,\n",
       "  73,\n",
       "  75,\n",
       "  77,\n",
       "  78,\n",
       "  81,\n",
       "  83,\n",
       "  85,\n",
       "  86,\n",
       "  87,\n",
       "  88,\n",
       "  89,\n",
       "  90,\n",
       "  91,\n",
       "  93,\n",
       "  94,\n",
       "  96,\n",
       "  97,\n",
       "  98,\n",
       "  99,\n",
       "  100,\n",
       "  102,\n",
       "  104,\n",
       "  105,\n",
       "  106,\n",
       "  107,\n",
       "  109,\n",
       "  110,\n",
       "  112,\n",
       "  113,\n",
       "  114,\n",
       "  115,\n",
       "  116,\n",
       "  118,\n",
       "  119,\n",
       "  120,\n",
       "  121,\n",
       "  124,\n",
       "  125,\n",
       "  126,\n",
       "  128,\n",
       "  129,\n",
       "  132,\n",
       "  133,\n",
       "  134,\n",
       "  135,\n",
       "  136,\n",
       "  137,\n",
       "  138,\n",
       "  139,\n",
       "  140,\n",
       "  141,\n",
       "  142,\n",
       "  143,\n",
       "  145,\n",
       "  146,\n",
       "  148,\n",
       "  149,\n",
       "  151,\n",
       "  153,\n",
       "  154,\n",
       "  155,\n",
       "  157,\n",
       "  158,\n",
       "  159,\n",
       "  160,\n",
       "  161,\n",
       "  162,\n",
       "  163,\n",
       "  164,\n",
       "  166,\n",
       "  167,\n",
       "  168,\n",
       "  169,\n",
       "  170,\n",
       "  172,\n",
       "  173,\n",
       "  176,\n",
       "  179,\n",
       "  181,\n",
       "  182,\n",
       "  183,\n",
       "  184,\n",
       "  185,\n",
       "  188,\n",
       "  189,\n",
       "  192,\n",
       "  193,\n",
       "  194,\n",
       "  195,\n",
       "  198,\n",
       "  199]]"
      ]
     },
     "execution_count": 162,
     "metadata": {},
     "output_type": "execute_result"
    }
   ],
   "source": [
    "clusters"
   ]
  }
 ],
 "metadata": {
  "kernelspec": {
   "display_name": ".venv",
   "language": "python",
   "name": "python3"
  },
  "language_info": {
   "codemirror_mode": {
    "name": "ipython",
    "version": 3
   },
   "file_extension": ".py",
   "mimetype": "text/x-python",
   "name": "python",
   "nbconvert_exporter": "python",
   "pygments_lexer": "ipython3",
   "version": "3.10.2"
  },
  "vscode": {
   "interpreter": {
    "hash": "35f5253ae318fcd12f4d0d917d7d23cb64d01e924a6e8f0f585e0ccb777f4db3"
   }
  }
 },
 "nbformat": 4,
 "nbformat_minor": 0
}
