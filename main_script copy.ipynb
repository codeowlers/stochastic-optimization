{
 "cells": [
  {
   "cell_type": "code",
   "execution_count": null,
   "metadata": {
    "collapsed": false
   },
   "outputs": [],
   "source": [
    "import numpy as np\n",
    "import random\n",
    "import gurobipy as gp\n",
    "import time"
   ]
  },
  {
   "attachments": {},
   "cell_type": "markdown",
   "metadata": {},
   "source": [
    "Generate Random Instances using capacity mean and standard deviation"
   ]
  },
  {
   "cell_type": "code",
   "execution_count": null,
   "metadata": {
    "collapsed": false
   },
   "outputs": [],
   "source": [
    "def generate_instances(n, p, capacity_mean, capacity_stddev):\n",
    "    # Generate 2D positions for n nodes\n",
    "    nodes = np.random.rand(n, 2)\n",
    "\n",
    "    # Generate capacities for clusters\n",
    "    capacities = np.random.normal(capacity_mean, capacity_stddev, p)\n",
    "\n",
    "    return nodes, capacities"
   ]
  },
  {
   "attachments": {},
   "cell_type": "markdown",
   "metadata": {},
   "source": [
    "Generate Random Weights using weight mean and standard deviation"
   ]
  },
  {
   "cell_type": "code",
   "execution_count": null,
   "metadata": {
    "collapsed": false
   },
   "outputs": [],
   "source": [
    "def generate_weights(n, weight_mean, weight_stddev):\n",
    "    # Generate weights for n nodes\n",
    "    weights = np.random.normal(weight_mean, weight_stddev, n)\n",
    "\n",
    "    return weights"
   ]
  },
  {
   "attachments": {},
   "cell_type": "markdown",
   "metadata": {},
   "source": [
    " Euclidean distance between two points p and q"
   ]
  },
  {
   "cell_type": "code",
   "execution_count": null,
   "metadata": {},
   "outputs": [],
   "source": [
    "def distance(p, q):\n",
    "    return np.sqrt(np.sum((p-q)**2))"
   ]
  },
  {
   "cell_type": "code",
   "execution_count": null,
   "metadata": {},
   "outputs": [],
   "source": [
    "def solve_ccp(nodes, capacities, weights, lambda_param):\n",
    "    n = nodes.shape[0]\n",
    "    p = len(capacities)\n",
    "\n",
    "    # Create gurobi model\n",
    "    model = gp.Model('ccp')\n",
    "\n",
    "    # Create decision variables\n",
    "    x = {}\n",
    "    y = {}\n",
    "\n",
    "    # Update decision variables as mentioned in the problem statement\n",
    "    for i in range(n):\n",
    "        for j in range(p):\n",
    "            x[i, j] = model.addVar(vtype=gp.GRB.BINARY, name=f'x[{i},{j}]')\n",
    "        y[i] = model.addVar(vtype=gp.GRB.BINARY, name=f'y[{i}]')\n",
    "\n",
    "    # Set objective function\n",
    "    obj = gp.quicksum(distance(nodes[i], nodes[j]) * x[i,j] for i in range(n) for j in range(p))\n",
    "    obj += lambda_param * gp.quicksum(capacities[j]*y[j] for j in range(p))\n",
    "    obj -= lambda_param * gp.quicksum(weights[i]*x[i,j] for i in range(n) for j in range(p))\n",
    "    model.setObjective(obj, gp.GRB.MINIMIZE)\n",
    "\n",
    "    # Add constraints\n",
    "    for i in range(n):\n",
    "        model.addConstr(gp.quicksum(x[i,j] for j in range(p)) == 1, name=f'assign[{i}]')\n",
    "\n",
    "    model.addConstr(gp.quicksum(y[j] for j in range(p)) <= p, name='num_clusters')\n",
    "\n",
    "    for i in range(n):\n",
    "        for j in range(p):\n",
    "            model.addConstr(x[i,j] <= y[j], name=f'x_c[{i},{j}]')\n",
    "\n",
    "    # Solve model\n",
    "    model.optimize()\n",
    "    # Extract solution\n",
    "    clusters = []\n",
    "    for j in range(p):\n",
    "        cluster = [i for i in range(n) if x[i,j].X > 0.5]\n",
    "        clusters.append(cluster)\n",
    "\n",
    "    return clusters, model"
   ]
  },
  {
   "cell_type": "code",
   "execution_count": null,
   "metadata": {},
   "outputs": [],
   "source": [
    "def jaccard_similarity(clusters_1, clusters_2):\n",
    "    jaccard_scores = []\n",
    "    for cluster_1 in clusters_1:\n",
    "        jaccard_scores_per_cluster = []\n",
    "        for cluster_2 in clusters_2:\n",
    "            union = len(set(cluster_1).union(cluster_2))\n",
    "            intersection = len(set(cluster_1).intersection(cluster_2))\n",
    "            jaccard_index = intersection / union\n",
    "            jaccard_scores_per_cluster.append(jaccard_index)\n",
    "        jaccard_scores.append(max(jaccard_scores_per_cluster))\n",
    "    return np.mean(jaccard_scores)"
   ]
  },
  {
   "cell_type": "code",
   "execution_count": null,
   "metadata": {},
   "outputs": [],
   "source": [
    "def insample_stability(clusters_reference,nodes, capacities, weights, lambda_param, num_runs=100):\n",
    "    jaccard_scores = []\n",
    "    for i in range(num_runs):\n",
    "        clusters, _ = solve_ccp(nodes, capacities, weights, lambda_param)\n",
    "        jaccard_scores.append(jaccard_similarity(clusters, clusters_reference))\n",
    "    return np.mean(jaccard_scores)\n"
   ]
  },
  {
   "cell_type": "code",
   "execution_count": null,
   "metadata": {
    "collapsed": false
   },
   "outputs": [],
   "source": [
    "# Example \n",
    "np.random.seed(42)\n",
    "\n",
    "# Number of nodes\n",
    "n = 200\n",
    "# Number of clusters\n",
    "p = 2\n",
    "# Metrics\n",
    "capacity_mean = 10\n",
    "capacity_stddev = 2\n",
    "weight_mean = 1\n",
    "weight_stddev = 0.1\n",
    "lambda_param = 0.5\n",
    "\n",
    "# Generate 2D nodes and random capacities for clusters\n",
    "nodes, capacities = generate_instances(n, p, capacity_mean, capacity_stddev)\n",
    "# Generate random weight for each node\n",
    "weights = generate_weights(n, weight_mean, weight_stddev)\n",
    "\n",
    "clusters, model = solve_ccp(nodes, capacities, weights, lambda_param)\n",
    "\n",
    "insample = insample_stability(clusters,nodes, capacities, weights, lambda_param, num_runs=100)\n",
    "\n",
    "print(\"Insample Stability:\",insample)"
   ]
  }
 ],
 "metadata": {
  "kernelspec": {
   "display_name": ".venv",
   "language": "python",
   "name": "python3"
  },
  "language_info": {
   "codemirror_mode": {
    "name": "ipython",
    "version": 3
   },
   "file_extension": ".py",
   "mimetype": "text/x-python",
   "name": "python",
   "nbconvert_exporter": "python",
   "pygments_lexer": "ipython3",
   "version": "3.10.2"
  },
  "vscode": {
   "interpreter": {
    "hash": "35f5253ae318fcd12f4d0d917d7d23cb64d01e924a6e8f0f585e0ccb777f4db3"
   }
  }
 },
 "nbformat": 4,
 "nbformat_minor": 0
}
